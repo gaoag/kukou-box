{
 "cells": [
  {
   "cell_type": "code",
   "execution_count": 1,
   "id": "2e40cdce",
   "metadata": {},
   "outputs": [
    {
     "name": "stderr",
     "output_type": "stream",
     "text": [
      "2021-11-27 16:02:32.855499: W tensorflow/stream_executor/platform/default/dso_loader.cc:64] Could not load dynamic library 'libcudart.so.11.0'; dlerror: libcudart.so.11.0: cannot open shared object file: No such file or directory; LD_LIBRARY_PATH: :/home/gaoag/.mujoco/mujoco200/bin\n",
      "2021-11-27 16:02:32.855542: I tensorflow/stream_executor/cuda/cudart_stub.cc:29] Ignore above cudart dlerror if you do not have a GPU set up on your machine.\n"
     ]
    }
   ],
   "source": [
    "from calc_scores import *"
   ]
  },
  {
   "cell_type": "code",
   "execution_count": 4,
   "id": "69e4d124",
   "metadata": {},
   "outputs": [],
   "source": [
    "journal = \"\"\"\n",
    "I went with my family yesterday to a beach in Palos Verdes.\n",
    "I enjoyed seeing the way my parents interacted with each other, and love showing my little sister all the plants and stuff and watching her discover them for the first time.\n",
    "I was like, \"do I want kids\"?\n",
    "\"\"\"\n",
    "\n",
    "journal = \"\"\"\n",
    "I worked on my homework quickly so I could join my friends at the party. Every year, my birthday is during dead week, so I never get to celebrate - however, this year, they surprised me with a cake! \n",
    "It was the first good birthday I had in college.\n",
    "\"\"\"\n",
    "# journal = \"\"\"\n",
    "# I have a friend who lived in Cali for school (I’m east coast.) while she was there, her parents FaceTimed her to tell her they were getting a divorce. She called me, and I immediately booked my $1,000 plane ticket for two days from then. That trip ended up being really fun, but it was so good to be able to be there for her.\n",
    "\n",
    "# A few years later, I lost my mom very suddenly. I didn’t know how to cope or move on with life. This same friend came over and spent every night at my apartment listening to me cry and try to figure out how to make funeral arrangements and estate decisions. As much as it sucked, it was awesome having such a good friend, and knowing that either of us would drop everything for each other.\n",
    "# \"\"\"\n",
    "\n",
    "# journal = \"\"\"\n",
    "# Depressed. Relationship of 1.5 years ended a month ago and I'm still depressed about it. I'm just taking it day by day. \n",
    "# \"\"\""
   ]
  },
  {
   "cell_type": "code",
   "execution_count": 5,
   "id": "c45fa927",
   "metadata": {},
   "outputs": [
    {
     "data": {
      "text/plain": [
       "({'friendship': [\"I moved out to a small rural town for grad school a little over a year ago, and between grad school and the rural population, I hadn't really made any local friends.\",\n",
       "   'My birthday was coming up, and for some reason this year I was kind of bummed about not being able to do a get-together for it.',\n",
       "   'I never did parties before, but this time it bothered me.',\n",
       "   'And I never even said anything about it, but two weeks before my birthday, two of my best friends who live seven hours away in another country called me and asked if I had any birthday plans.',\n",
       "   'They, on their own - not even conferring with each other!',\n",
       "   '- had decided to make that trip out to me for a long weekend.',\n",
       "   'One of them reached out to family and was able to get a sailboat for a weekend, so my birthday went from videogames by myself to my two best friends traveling hours to come sailing with me for a weekend.',\n",
       "   'I cried so damn hard; I love them so much.',\n",
       "   'It also turned out that by pure chance that weekend in the town we went to was both the weekend of an Art Festival and the local Pride Festival!',\n",
       "   \"We'd had no idea but it was perfect!\"],\n",
       "  'stress': [\"I moved out to a small rural town for grad school a little over a year ago, and between grad school and the rural population, I hadn't really made any local friends.\",\n",
       "   'My birthday was coming up, and for some reason this year I was kind of bummed about not being able to do a get-together for it.',\n",
       "   'I never did parties before, but this time it bothered me.',\n",
       "   'And I never even said anything about it, but two weeks before my birthday, two of my best friends who live seven hours away in another country called me and asked if I had any birthday plans.',\n",
       "   'They, on their own - not even conferring with each other!',\n",
       "   '- had decided to make that trip out to me for a long weekend.',\n",
       "   'One of them reached out to family and was able to get a sailboat for a weekend, so my birthday went from videogames by myself to my two best friends traveling hours to come sailing with me for a weekend.',\n",
       "   'I cried so damn hard; I love them so much.',\n",
       "   'It also turned out that by pure chance that weekend in the town we went to was both the weekend of an Art Festival and the local Pride Festival!',\n",
       "   \"We'd had no idea but it was perfect!\"]},\n",
       " {'friendship': 2.0816000000000003, 'relaxation': -2.0816000000000003})"
      ]
     },
     "execution_count": 5,
     "metadata": {},
     "output_type": "execute_result"
    }
   ],
   "source": [
    "calc_journal_scores(journal)"
   ]
  },
  {
   "cell_type": "code",
   "execution_count": null,
   "id": "fa821934",
   "metadata": {},
   "outputs": [],
   "source": []
  }
 ],
 "metadata": {
  "kernelspec": {
   "display_name": "Python 3 (ipykernel)",
   "language": "python",
   "name": "python3"
  },
  "language_info": {
   "codemirror_mode": {
    "name": "ipython",
    "version": 3
   },
   "file_extension": ".py",
   "mimetype": "text/x-python",
   "name": "python",
   "nbconvert_exporter": "python",
   "pygments_lexer": "ipython3",
   "version": "3.8.12"
  }
 },
 "nbformat": 4,
 "nbformat_minor": 5
}
